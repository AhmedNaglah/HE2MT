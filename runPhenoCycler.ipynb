{
 "cells": [
  {
   "cell_type": "code",
   "execution_count": null,
   "id": "ff4bd085-633f-4518-93c2-b77716f5df6e",
   "metadata": {
    "tags": []
   },
   "outputs": [
    {
     "name": "stderr",
     "output_type": "stream",
     "text": [
      "2023-07-24 11:34:07.543350: W tensorflow/stream_executor/platform/default/dso_loader.cc:64] Could not load dynamic library 'libcuda.so.1'; dlerror: libcuda.so.1: cannot open shared object file: No such file or directory; LD_LIBRARY_PATH: /apps/tensorflow/2.6.0/lib/python3.9/site-packages/cv2/../../lib64:/opt/slurm/lib64:/opt/slurm/lib64:\n",
      "2023-07-24 11:34:07.543390: W tensorflow/stream_executor/cuda/cuda_driver.cc:269] failed call to cuInit: UNKNOWN ERROR (303)\n",
      "2023-07-24 11:34:07.543409: I tensorflow/stream_executor/cuda/cuda_diagnostics.cc:156] kernel driver does not appear to be running on this host (c0709a-s30.ufhpc): /proc/driver/nvidia/version does not exist\n",
      "2023-07-24 11:34:07.543634: I tensorflow/core/platform/cpu_feature_guard.cc:142] This TensorFlow binary is optimized with oneAPI Deep Neural Network Library (oneDNN) to use the following CPU instructions in performance-critical operations:  SSE4.1 SSE4.2 AVX AVX2 FMA\n",
      "To enable them in other operations, rebuild TensorFlow with the appropriate compiler flags.\n"
     ]
    },
    {
     "name": "stdout",
     "output_type": "stream",
     "text": [
      "#################################\n",
      "CondGAN Training\n",
      ".................................\n",
      ".... Experiment Code: pheno_ch0_exp3_ch8 ......\n",
      ".................................\n",
      "HEADER: gen_total_loss, gen_gan_loss, gen_l1_loss, disc_loss\n",
      ".................................\n",
      ".................................\n",
      ".................................\n",
      "Epoch Started .... Time: 1690212849.083516, Epoch # 0\n"
     ]
    },
    {
     "name": "stderr",
     "output_type": "stream",
     "text": [
      "2023-07-24 11:34:09.088710: I tensorflow/compiler/mlir/mlir_graph_optimization_pass.cc:185] None of the MLIR Optimization Passes are enabled (registered 2)\n"
     ]
    },
    {
     "name": "stdout",
     "output_type": "stream",
     "text": [
      "Processing Batches... Batch #: 0, Experiment_ID: pheno_ch0_exp3_ch8, gen_total_loss: 52.75164031982422, gen_gan_loss: 0.7663541436195374, gen_l1_loss: 0.519852876663208, disc_loss:1.7687073945999146\n",
      "Processing Batches... Batch #: 34, Experiment_ID: pheno_ch0_exp3_ch8, gen_total_loss: 22.625879287719727, gen_gan_loss: 0.8067571520805359, gen_l1_loss: 0.2181912213563919, disc_loss:1.3234660625457764\n",
      "Processing Batches... Batch #: 68, Experiment_ID: pheno_ch0_exp3_ch8, gen_total_loss: 24.783466339111328, gen_gan_loss: 3.400449752807617, gen_l1_loss: 0.2138301581144333, disc_loss:0.06400816142559052\n",
      "Processing Batches... Batch #: 102, Experiment_ID: pheno_ch0_exp3_ch8, gen_total_loss: 28.309444427490234, gen_gan_loss: 3.9074912071228027, gen_l1_loss: 0.2440195232629776, disc_loss:0.043796829879283905\n",
      "Processing Batches... Batch #: 136, Experiment_ID: pheno_ch0_exp3_ch8, gen_total_loss: 23.837045669555664, gen_gan_loss: 4.618514537811279, gen_l1_loss: 0.19218529760837555, disc_loss:0.14210224151611328\n",
      "Processing Batches... Batch #: 170, Experiment_ID: pheno_ch0_exp3_ch8, gen_total_loss: 26.655147552490234, gen_gan_loss: 2.3242852687835693, gen_l1_loss: 0.24330861866474152, disc_loss:0.18621747195720673\n",
      "Processing Batches... Batch #: 204, Experiment_ID: pheno_ch0_exp3_ch8, gen_total_loss: 25.075584411621094, gen_gan_loss: 3.5750417709350586, gen_l1_loss: 0.21500544250011444, disc_loss:0.30361729860305786\n",
      "Processing Batches... Batch #: 238, Experiment_ID: pheno_ch0_exp3_ch8, gen_total_loss: 27.916189193725586, gen_gan_loss: 3.2760584354400635, gen_l1_loss: 0.24640130996704102, disc_loss:0.5032953023910522\n"
     ]
    }
   ],
   "source": [
    "import tensorflow as tf\n",
    "import argparse\n",
    "import importlib\n",
    "from utils.deeptrain_util import *\n",
    "\n",
    "BATCH_SIZE = 1\n",
    "PATH = \"/orange/pinaki.sarder/ahmed.naglah/codes/phenocycler/outs/experiment03/ch8/\"\n",
    "MODEL = 'condGAN1024'\n",
    "LAMDA = 100\n",
    "LR = 2e-4\n",
    "EPOCHS = 6\n",
    "OPTIMIZER = 'Adam'\n",
    "EXPERIMENT_ID = 'pheno_ch0_exp3_ch8'\n",
    "MONITORFREQ = '1epoch'\n",
    "CHECKPOINTFREQ = 2\n",
    "MODELSAVEFREQ = 1\n",
    "\n",
    "myClass = getattr(importlib.import_module(f'models.{MODEL}'), MODEL)\n",
    "\n",
    "if MODEL.startswith('condGAN'):\n",
    "    train_dataset = tf.data.Dataset.list_files(f'{PATH}train/*.png')\n",
    "    val_dataset = tf.data.Dataset.list_files(f'{PATH}val/*.png')\n",
    "    test_dataset = tf.data.Dataset.list_files(f'{PATH}test/*.png')\n",
    "    monitor_dataset = tf.data.Dataset.list_files(f'{PATH}monitor/*.png')\n",
    "\n",
    "    train_dataset = train_dataset.map(load_image)\n",
    "    train_dataset = train_dataset.batch(BATCH_SIZE)\n",
    "    val_dataset = val_dataset.map(load_image)\n",
    "    val_dataset = val_dataset.batch(BATCH_SIZE)\n",
    "    test_dataset = test_dataset.map(load_image_test)\n",
    "    test_dataset = test_dataset.batch(BATCH_SIZE)\n",
    "    monitor_dataset = monitor_dataset.map(load_image)\n",
    "    monitor_dataset = monitor_dataset.batch(BATCH_SIZE)\n",
    "    \n",
    "    model = myClass()\n",
    "    model.compile(optimizer=OPTIMIZER, lamda=LAMDA, learning_rate=LR)\n",
    "    model.fit(train_dataset, val_dataset, monitor_dataset, epochs=EPOCHS, experiment_id=EXPERIMENT_ID, dataroot=PATH, monitor_freq=MONITORFREQ, checkpointfreq=CHECKPOINTFREQ, modelsavefreq = MODELSAVEFREQ)\n",
    "    model.test(test_dataset, experiment_id=EXPERIMENT_ID, dataroot=PATH)\n"
   ]
  },
  {
   "cell_type": "code",
   "execution_count": null,
   "id": "01fc10ac-c329-418a-a060-202753d67913",
   "metadata": {},
   "outputs": [],
   "source": []
  }
 ],
 "metadata": {
  "kernelspec": {
   "display_name": "Tensorflow-2.6.0",
   "language": "python",
   "name": "tensorflow-2.6.0"
  },
  "language_info": {
   "codemirror_mode": {
    "name": "ipython",
    "version": 3
   },
   "file_extension": ".py",
   "mimetype": "text/x-python",
   "name": "python",
   "nbconvert_exporter": "python",
   "pygments_lexer": "ipython3",
   "version": "3.9.7"
  }
 },
 "nbformat": 4,
 "nbformat_minor": 5
}
